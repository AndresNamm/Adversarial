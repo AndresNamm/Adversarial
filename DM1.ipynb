{
 "cells": [
  {
   "cell_type": "code",
   "execution_count": 4,
   "metadata": {
    "collapsed": true
   },
   "outputs": [
    {
     "name": "stdout",
     "output_type": "stream",
     "text": [
      "COFFEE , MANGO\nCOFFEE , VANILLA\nCOFFEE , CHOCOLATE\nCOFFEE , STRAWBERRY\nMANGO , VANILLA\nMANGO , CHOCOLATE\nMANGO , STRAWBERRY\nVANILLA , CHOCOLATE\nVANILLA , STRAWBERRY\nCHOCOLATE , STRAWBERRY\n"
     ]
    }
   ],
   "source": [
    "c=[]\n",
    "b = [\"COFFEE\", \"MANGO\",\"VANILLA\",\"CHOCOLATE\",\"STRAWBERRY\"]\n",
    "for i in range(len(b)):\n",
    "    for j in range(i+1,len(b)):\n",
    "        print(b[i],\",\",b[j])\n",
    "        c.append([b[i],b[j]])"
   ]
  },
  {
   "cell_type": "code",
   "execution_count": 7,
   "metadata": {},
   "outputs": [
    {
     "ename": "ModuleNotFoundError",
     "evalue": "No module named 'orange'",
     "traceback": [
      "\u001b[0;31m---------------------------------------------------------------------------\u001b[0m",
      "\u001b[0;31mModuleNotFoundError\u001b[0m                       Traceback (most recent call last)",
      "\u001b[0;32m<ipython-input-7-b3d81ddeaaa5>\u001b[0m in \u001b[0;36m<module>\u001b[0;34m()\u001b[0m\n\u001b[0;32m----> 1\u001b[0;31m \u001b[1;32mimport\u001b[0m \u001b[0morange\u001b[0m\u001b[1;33m\u001b[0m\u001b[0m\n\u001b[0m",
      "\u001b[0;31mModuleNotFoundError\u001b[0m: No module named 'orange'"
     ],
     "output_type": "error"
    }
   ],
   "source": [
    "import orange"
   ]
  },
  {
   "cell_type": "code",
   "execution_count": null,
   "metadata": {},
   "outputs": [],
   "source": [
    ""
   ]
  }
 ],
 "metadata": {
  "kernelspec": {
   "display_name": "Python 2",
   "language": "python",
   "name": "python2"
  },
  "language_info": {
   "codemirror_mode": {
    "name": "ipython",
    "version": 2.0
   },
   "file_extension": ".py",
   "mimetype": "text/x-python",
   "name": "python",
   "nbconvert_exporter": "python",
   "pygments_lexer": "ipython2",
   "version": "2.7.6"
  }
 },
 "nbformat": 4,
 "nbformat_minor": 0
}