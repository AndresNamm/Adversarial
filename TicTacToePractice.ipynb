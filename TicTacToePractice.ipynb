{
 "cells": [
  {
   "cell_type": "code",
   "execution_count": 24,
   "metadata": {
    "collapsed": true
   },
   "outputs": [],
   "source": [
    "fp = { #only includes in-play positions (not boards with three-in-a-row)\n",
    "            \"000000000\" : \"c\",\n",
    "            \"100000000\" : \"\",\n",
    "            \"010000000\" : \"\",\n",
    "            \"000010000\" : \"cc\",\n",
    "            \"110000000\" : \"ad\",\n",
    "            \"101000000\" : \"b\",\n",
    "            \"100010000\" : \"b\",\n",
    "            \"100001000\" : \"b\",\n",
    "            \"100000001\" : \"a\",\n",
    "            \"010100000\" : \"a\",\n",
    "            \"010010000\" : \"b\",\n",
    "            \"010000010\" : \"a\",\n",
    "            \"110100000\" : \"b\",\n",
    "            \"110010000\" : \"ab\",\n",
    "            \"110001000\" : \"d\",\n",
    "            \"110000100\" : \"a\",\n",
    "            \"110000010\" : \"d\",\n",
    "            \"110000001\" : \"d\",\n",
    "            \"101010000\" : \"a\",\n",
    "            \"101000100\" : \"ab\",\n",
    "            \"101000010\" : \"a\",\n",
    "            \"100011000\" : \"a\",\n",
    "            \"100001010\" : \"\",\n",
    "            \"010110000\" : \"ab\",\n",
    "            \"010101000\" : \"b\",\n",
    "            \"110110000\" : \"a\",\n",
    "            \"110101000\" : \"a\",\n",
    "            \"110100001\" : \"a\",\n",
    "            \"110011000\" : \"b\",\n",
    "            \"110010100\" : \"b\",\n",
    "            \"110001100\" : \"b\",\n",
    "            \"110001010\" : \"ab\",\n",
    "            \"110001001\" : \"ab\",\n",
    "            \"110000110\" : \"b\",\n",
    "            \"110000101\" : \"b\",\n",
    "            \"110000011\" : \"a\",\n",
    "            \"101010010\" : \"b\",\n",
    "            \"101000101\" : \"a\",\n",
    "            \"100011010\" : \"b\",\n",
    "            \"010101010\" : \"a\",\n",
    "            \"110101010\" : \"b\",\n",
    "            \"110101001\" : \"b\",\n",
    "            \"110011100\" : \"a\",\n",
    "            \"110001110\" : \"a\",\n",
    "            \"110001101\" : \"a\",\n",
    "            \"110101011\" : \"a\"}"
   ]
  },
  {
   "cell_type": "code",
   "execution_count": 42,
   "metadata": {},
   "outputs": [],
   "source": [
    "import math\n",
    "def matPrint(matrix: str):\n",
    "    #Assume square matrix\n",
    "    matSize=math.floor(math.sqrt(len(matrix)))\n",
    "    print(\"Printing matrix with sixe \", matSize)\n",
    "    for i in range(matSize):\n",
    "        temp=[]\n",
    "        for j in range(matSize):\n",
    "            temp.append(matrix[i*matSize+j])\n",
    "        print(temp)"
   ]
  },
  {
   "cell_type": "code",
   "execution_count": 43,
   "metadata": {},
   "outputs": [],
   "source": [
    "def transferBoard( board):\n",
    "    rboard=\"\"\n",
    "    for i in board:\n",
    "\n",
    "        if i:\n",
    "            rboard+=\"1\"\n",
    "        else:\n",
    "            rboard+=\"0\"\n",
    "    return rboard"
   ]
  },
  {
   "cell_type": "code",
   "execution_count": 53,
   "metadata": {},
   "outputs": [],
   "source": [
    "def rotate(board):\n",
    "    ans=board.copy()\n",
    "    for i in range(3):\n",
    "        for j in range(3):\n",
    "            ans[j*3+2-i]=board[i*3+j]\n",
    "    return ans\n",
    "\n",
    "def reflect(board):\n",
    "    ans=board.copy()\n",
    "    for i in range(3):\n",
    "        for j in range(3):\n",
    "            ans[i*3+2-j ]=board[i*3+j]\n",
    "    return ans"
   ]
  },
  {
   "cell_type": "code",
   "execution_count": 54,
   "metadata": {},
   "outputs": [],
   "source": [
    "def getFingerPrint(board):\n",
    "    board=[True, True, True, False, False, False, False, False, False]\n",
    "\n",
    "    for reflection in range(2):\n",
    "        for rotation in range(4):\n",
    "            if transferBoard(board) in fp.keys():\n",
    "                return transferBoard(board)\n",
    "            board=rotate(board)\n",
    "        board=reflect(board)"
   ]
  },
  {
   "cell_type": "code",
   "execution_count": 55,
   "metadata": {},
   "outputs": [],
   "source": [
    ""
   ]
  },
  {
   "cell_type": "code",
   "execution_count": 55,
   "metadata": {},
   "outputs": [
    {
     "name": "stdout",
     "output_type": "stream",
     "text": [
      "110001100\n"
     ]
    }
   ],
   "source": [
    "print(getFingerPrint([]))"
   ]
  },
  {
   "cell_type": "code",
   "execution_count": null,
   "metadata": {},
   "outputs": [],
   "source": [
    ""
   ]
  }
 ],
 "metadata": {
  "kernelspec": {
   "display_name": "Python 2",
   "language": "python",
   "name": "python2"
  },
  "language_info": {
   "codemirror_mode": {
    "name": "ipython",
    "version": 2.0
   },
   "file_extension": ".py",
   "mimetype": "text/x-python",
   "name": "python",
   "nbconvert_exporter": "python",
   "pygments_lexer": "ipython2",
   "version": "2.7.6"
  }
 },
 "nbformat": 4,
 "nbformat_minor": 0
}